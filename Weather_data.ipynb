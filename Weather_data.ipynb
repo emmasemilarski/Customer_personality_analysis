{
 "cells": [
  {
   "cell_type": "code",
   "execution_count": 1,
   "id": "496bba91",
   "metadata": {},
   "outputs": [
    {
     "name": "stderr",
     "output_type": "stream",
     "text": [
      "C:\\Users\\Emma Belinda\\Anaconda\\lib\\site-packages\\IPython\\core\\interactiveshell.py:3165: DtypeWarning: Columns (4) have mixed types.Specify dtype option on import or set low_memory=False.\n",
      "  has_raised = await self.run_ast_nodes(code_ast.body, cell_name,\n"
     ]
    }
   ],
   "source": [
    "import pandas as pd\n",
    "\n",
    "# weather data is from https://meteo.physic.ut.ee/ archives\n",
    "w_data = pd.read_csv('weather.csv') "
   ]
  },
  {
   "cell_type": "code",
   "execution_count": 3,
   "id": "013553d2",
   "metadata": {},
   "outputs": [
    {
     "name": "stdout",
     "output_type": "stream",
     "text": [
      "<class 'pandas.core.frame.DataFrame'>\n",
      "RangeIndex: 204481 entries, 0 to 204480\n",
      "Data columns (total 5 columns):\n",
      " #   Column        Non-Null Count   Dtype \n",
      "---  ------        --------------   ----- \n",
      " 0   Aeg           204481 non-null  object\n",
      " 1    Temperatuur  204481 non-null  object\n",
      " 2    Niiskus      204481 non-null  object\n",
      " 3   Ohurohk       204481 non-null  object\n",
      " 4    Sademed      204481 non-null  object\n",
      "dtypes: object(5)\n",
      "memory usage: 7.8+ MB\n"
     ]
    }
   ],
   "source": [
    "w_data.info()"
   ]
  },
  {
   "cell_type": "code",
   "execution_count": 190,
   "id": "a7324698",
   "metadata": {},
   "outputs": [],
   "source": [
    "data1 = w_data.copy()"
   ]
  },
  {
   "cell_type": "code",
   "execution_count": 191,
   "id": "1b1a0494",
   "metadata": {},
   "outputs": [
    {
     "name": "stdout",
     "output_type": "stream",
     "text": [
      "<class 'pandas.core.frame.DataFrame'>\n",
      "RangeIndex: 204481 entries, 0 to 204480\n",
      "Data columns (total 5 columns):\n",
      " #   Column        Non-Null Count   Dtype \n",
      "---  ------        --------------   ----- \n",
      " 0   Aeg           204481 non-null  object\n",
      " 1    Temperatuur  204481 non-null  object\n",
      " 2    Niiskus      204481 non-null  object\n",
      " 3   Ohurohk       204481 non-null  object\n",
      " 4    Sademed      204481 non-null  object\n",
      "dtypes: object(5)\n",
      "memory usage: 7.8+ MB\n"
     ]
    }
   ],
   "source": [
    "data1.info()"
   ]
  },
  {
   "cell_type": "code",
   "execution_count": 192,
   "id": "7f9b3687",
   "metadata": {},
   "outputs": [],
   "source": [
    "# Creating a new column with only date\n",
    "data1['Aeg'] = pd.to_datetime(data1['Aeg'], format='%d/%m/%Y %H:%M')\n",
    "data1['Kuupaev'] = data1['Aeg'].dt.strftime('%Y-%m-%d')"
   ]
  },
  {
   "cell_type": "code",
   "execution_count": 193,
   "id": "f7a1bfc2",
   "metadata": {},
   "outputs": [],
   "source": [
    "data1['Kuupaev'] = pd.to_datetime(data1['Kuupaev'], format='%Y-%m-%d')"
   ]
  },
  {
   "cell_type": "code",
   "execution_count": 194,
   "id": "8d7b951c",
   "metadata": {},
   "outputs": [],
   "source": [
    "data1 = data1.set_axis(['Aeg', 'Temperatuur', 'Niiskus', 'Ohurohk', 'Sademed', 'Kuupaev'], axis=1, inplace=False)"
   ]
  },
  {
   "cell_type": "code",
   "execution_count": 195,
   "id": "2d017761",
   "metadata": {},
   "outputs": [],
   "source": [
    "# converting other columns values from object to float\n",
    "data1['Temperatuur'] = pd.to_numeric(data1['Temperatuur'], errors='coerce')\n",
    "data1['Niiskus'] = pd.to_numeric(data1['Niiskus'], errors='coerce')\n",
    "data1['Ohurohk'] = pd.to_numeric(data1['Ohurohk'], errors='coerce')\n",
    "data1['Sademed'] = pd.to_numeric(data1['Sademed'], errors='coerce')"
   ]
  },
  {
   "cell_type": "code",
   "execution_count": 196,
   "id": "7df96ad7",
   "metadata": {},
   "outputs": [],
   "source": [
    "#data1 = data1.dropna()\n",
    "data1 = data1.reset_index()\n",
    "data1 = data1.drop(['index', 'Aeg', 'Sademed', 'Ohurohk'], axis=1)"
   ]
  },
  {
   "cell_type": "code",
   "execution_count": 197,
   "id": "dd7459e6",
   "metadata": {},
   "outputs": [],
   "source": [
    "data1['Andmeid_paeva_kohta'] = 1"
   ]
  },
  {
   "cell_type": "code",
   "execution_count": 198,
   "id": "27140a9c",
   "metadata": {},
   "outputs": [
    {
     "data": {
      "text/html": [
       "<div>\n",
       "<style scoped>\n",
       "    .dataframe tbody tr th:only-of-type {\n",
       "        vertical-align: middle;\n",
       "    }\n",
       "\n",
       "    .dataframe tbody tr th {\n",
       "        vertical-align: top;\n",
       "    }\n",
       "\n",
       "    .dataframe thead th {\n",
       "        text-align: right;\n",
       "    }\n",
       "</style>\n",
       "<table border=\"1\" class=\"dataframe\">\n",
       "  <thead>\n",
       "    <tr style=\"text-align: right;\">\n",
       "      <th></th>\n",
       "      <th>Temperatuur</th>\n",
       "      <th>Niiskus</th>\n",
       "      <th>Kuupaev</th>\n",
       "      <th>Andmeid_paeva_kohta</th>\n",
       "    </tr>\n",
       "  </thead>\n",
       "  <tbody>\n",
       "    <tr>\n",
       "      <th>0</th>\n",
       "      <td>8.888103</td>\n",
       "      <td>76.708692</td>\n",
       "      <td>2019-06-01</td>\n",
       "      <td>1</td>\n",
       "    </tr>\n",
       "    <tr>\n",
       "      <th>1</th>\n",
       "      <td>8.753599</td>\n",
       "      <td>79.296941</td>\n",
       "      <td>2019-06-01</td>\n",
       "      <td>1</td>\n",
       "    </tr>\n",
       "    <tr>\n",
       "      <th>2</th>\n",
       "      <td>8.788582</td>\n",
       "      <td>78.446237</td>\n",
       "      <td>2019-06-01</td>\n",
       "      <td>1</td>\n",
       "    </tr>\n",
       "    <tr>\n",
       "      <th>3</th>\n",
       "      <td>8.810311</td>\n",
       "      <td>77.352591</td>\n",
       "      <td>2019-06-01</td>\n",
       "      <td>1</td>\n",
       "    </tr>\n",
       "    <tr>\n",
       "      <th>4</th>\n",
       "      <td>8.575596</td>\n",
       "      <td>79.479611</td>\n",
       "      <td>2019-06-01</td>\n",
       "      <td>1</td>\n",
       "    </tr>\n",
       "    <tr>\n",
       "      <th>...</th>\n",
       "      <td>...</td>\n",
       "      <td>...</td>\n",
       "      <td>...</td>\n",
       "      <td>...</td>\n",
       "    </tr>\n",
       "    <tr>\n",
       "      <th>204476</th>\n",
       "      <td>5.874293</td>\n",
       "      <td>78.252298</td>\n",
       "      <td>2021-04-30</td>\n",
       "      <td>1</td>\n",
       "    </tr>\n",
       "    <tr>\n",
       "      <th>204477</th>\n",
       "      <td>5.841596</td>\n",
       "      <td>78.804838</td>\n",
       "      <td>2021-04-30</td>\n",
       "      <td>1</td>\n",
       "    </tr>\n",
       "    <tr>\n",
       "      <th>204478</th>\n",
       "      <td>5.846684</td>\n",
       "      <td>78.970810</td>\n",
       "      <td>2021-04-30</td>\n",
       "      <td>1</td>\n",
       "    </tr>\n",
       "    <tr>\n",
       "      <th>204479</th>\n",
       "      <td>5.841117</td>\n",
       "      <td>78.944670</td>\n",
       "      <td>2021-04-30</td>\n",
       "      <td>1</td>\n",
       "    </tr>\n",
       "    <tr>\n",
       "      <th>204480</th>\n",
       "      <td>5.825572</td>\n",
       "      <td>78.991542</td>\n",
       "      <td>2021-04-30</td>\n",
       "      <td>1</td>\n",
       "    </tr>\n",
       "  </tbody>\n",
       "</table>\n",
       "<p>204481 rows × 4 columns</p>\n",
       "</div>"
      ],
      "text/plain": [
       "        Temperatuur    Niiskus    Kuupaev  Andmeid_paeva_kohta\n",
       "0          8.888103  76.708692 2019-06-01                    1\n",
       "1          8.753599  79.296941 2019-06-01                    1\n",
       "2          8.788582  78.446237 2019-06-01                    1\n",
       "3          8.810311  77.352591 2019-06-01                    1\n",
       "4          8.575596  79.479611 2019-06-01                    1\n",
       "...             ...        ...        ...                  ...\n",
       "204476     5.874293  78.252298 2021-04-30                    1\n",
       "204477     5.841596  78.804838 2021-04-30                    1\n",
       "204478     5.846684  78.970810 2021-04-30                    1\n",
       "204479     5.841117  78.944670 2021-04-30                    1\n",
       "204480     5.825572  78.991542 2021-04-30                    1\n",
       "\n",
       "[204481 rows x 4 columns]"
      ]
     },
     "execution_count": 198,
     "metadata": {},
     "output_type": "execute_result"
    }
   ],
   "source": [
    "data1"
   ]
  },
  {
   "cell_type": "code",
   "execution_count": 199,
   "id": "f950d7a6",
   "metadata": {},
   "outputs": [],
   "source": [
    "loplik = data1.copy()\n",
    "\n",
    "loplik = loplik.groupby(by=['Kuupaev'], as_index=False).sum()"
   ]
  },
  {
   "cell_type": "code",
   "execution_count": 200,
   "id": "246f8f5b",
   "metadata": {},
   "outputs": [
    {
     "data": {
      "text/html": [
       "<div>\n",
       "<style scoped>\n",
       "    .dataframe tbody tr th:only-of-type {\n",
       "        vertical-align: middle;\n",
       "    }\n",
       "\n",
       "    .dataframe tbody tr th {\n",
       "        vertical-align: top;\n",
       "    }\n",
       "\n",
       "    .dataframe thead th {\n",
       "        text-align: right;\n",
       "    }\n",
       "</style>\n",
       "<table border=\"1\" class=\"dataframe\">\n",
       "  <thead>\n",
       "    <tr style=\"text-align: right;\">\n",
       "      <th></th>\n",
       "      <th>Kuupaev</th>\n",
       "      <th>Temperatuur</th>\n",
       "      <th>Niiskus</th>\n",
       "      <th>Andmeid_paeva_kohta</th>\n",
       "    </tr>\n",
       "  </thead>\n",
       "  <tbody>\n",
       "    <tr>\n",
       "      <th>0</th>\n",
       "      <td>2019-06-01</td>\n",
       "      <td>3765.295872</td>\n",
       "      <td>14669.504661</td>\n",
       "      <td>276</td>\n",
       "    </tr>\n",
       "    <tr>\n",
       "      <th>1</th>\n",
       "      <td>2019-06-02</td>\n",
       "      <td>4164.627479</td>\n",
       "      <td>19753.042270</td>\n",
       "      <td>288</td>\n",
       "    </tr>\n",
       "    <tr>\n",
       "      <th>2</th>\n",
       "      <td>2019-06-03</td>\n",
       "      <td>4074.895458</td>\n",
       "      <td>16507.607284</td>\n",
       "      <td>288</td>\n",
       "    </tr>\n",
       "    <tr>\n",
       "      <th>3</th>\n",
       "      <td>2019-06-04</td>\n",
       "      <td>6149.540224</td>\n",
       "      <td>14202.526744</td>\n",
       "      <td>288</td>\n",
       "    </tr>\n",
       "    <tr>\n",
       "      <th>4</th>\n",
       "      <td>2019-06-05</td>\n",
       "      <td>6844.450428</td>\n",
       "      <td>13987.500523</td>\n",
       "      <td>288</td>\n",
       "    </tr>\n",
       "    <tr>\n",
       "      <th>...</th>\n",
       "      <td>...</td>\n",
       "      <td>...</td>\n",
       "      <td>...</td>\n",
       "      <td>...</td>\n",
       "    </tr>\n",
       "    <tr>\n",
       "      <th>695</th>\n",
       "      <td>2021-04-26</td>\n",
       "      <td>761.805740</td>\n",
       "      <td>25165.360869</td>\n",
       "      <td>288</td>\n",
       "    </tr>\n",
       "    <tr>\n",
       "      <th>696</th>\n",
       "      <td>2021-04-27</td>\n",
       "      <td>1154.862484</td>\n",
       "      <td>25684.772182</td>\n",
       "      <td>288</td>\n",
       "    </tr>\n",
       "    <tr>\n",
       "      <th>697</th>\n",
       "      <td>2021-04-28</td>\n",
       "      <td>1035.303020</td>\n",
       "      <td>20509.088049</td>\n",
       "      <td>288</td>\n",
       "    </tr>\n",
       "    <tr>\n",
       "      <th>698</th>\n",
       "      <td>2021-04-29</td>\n",
       "      <td>1540.937792</td>\n",
       "      <td>20064.522971</td>\n",
       "      <td>288</td>\n",
       "    </tr>\n",
       "    <tr>\n",
       "      <th>699</th>\n",
       "      <td>2021-04-30</td>\n",
       "      <td>70.775499</td>\n",
       "      <td>936.714656</td>\n",
       "      <td>12</td>\n",
       "    </tr>\n",
       "  </tbody>\n",
       "</table>\n",
       "<p>700 rows × 4 columns</p>\n",
       "</div>"
      ],
      "text/plain": [
       "       Kuupaev  Temperatuur       Niiskus  Andmeid_paeva_kohta\n",
       "0   2019-06-01  3765.295872  14669.504661                  276\n",
       "1   2019-06-02  4164.627479  19753.042270                  288\n",
       "2   2019-06-03  4074.895458  16507.607284                  288\n",
       "3   2019-06-04  6149.540224  14202.526744                  288\n",
       "4   2019-06-05  6844.450428  13987.500523                  288\n",
       "..         ...          ...           ...                  ...\n",
       "695 2021-04-26   761.805740  25165.360869                  288\n",
       "696 2021-04-27  1154.862484  25684.772182                  288\n",
       "697 2021-04-28  1035.303020  20509.088049                  288\n",
       "698 2021-04-29  1540.937792  20064.522971                  288\n",
       "699 2021-04-30    70.775499    936.714656                   12\n",
       "\n",
       "[700 rows x 4 columns]"
      ]
     },
     "execution_count": 200,
     "metadata": {},
     "output_type": "execute_result"
    }
   ],
   "source": [
    "loplik"
   ]
  },
  {
   "cell_type": "code",
   "execution_count": 201,
   "id": "1157653c",
   "metadata": {},
   "outputs": [],
   "source": [
    "for i in range(700):\n",
    "    jagada = loplik.iloc[i, 3]\n",
    "    temp = loplik.at[i, 'Temperatuur']\n",
    "    niiskus = loplik.at[i, 'Niiskus']\n",
    "    loplik.at[i, 'Temperatuur'] = round(temp / jagada)\n",
    "    loplik.at[i, 'Niiskus'] = round(niiskus / jagada)"
   ]
  },
  {
   "cell_type": "code",
   "execution_count": 203,
   "id": "11e5037a",
   "metadata": {},
   "outputs": [],
   "source": [
    "loplik['Temperatuur'] = loplik['Temperatuur'].astype(int)\n",
    "loplik['Niiskus'] = loplik['Niiskus'].astype(int)"
   ]
  },
  {
   "cell_type": "code",
   "execution_count": 204,
   "id": "399656cf",
   "metadata": {},
   "outputs": [
    {
     "data": {
      "text/html": [
       "<div>\n",
       "<style scoped>\n",
       "    .dataframe tbody tr th:only-of-type {\n",
       "        vertical-align: middle;\n",
       "    }\n",
       "\n",
       "    .dataframe tbody tr th {\n",
       "        vertical-align: top;\n",
       "    }\n",
       "\n",
       "    .dataframe thead th {\n",
       "        text-align: right;\n",
       "    }\n",
       "</style>\n",
       "<table border=\"1\" class=\"dataframe\">\n",
       "  <thead>\n",
       "    <tr style=\"text-align: right;\">\n",
       "      <th></th>\n",
       "      <th>Kuupaev</th>\n",
       "      <th>Temperatuur</th>\n",
       "      <th>Niiskus</th>\n",
       "      <th>Andmeid_paeva_kohta</th>\n",
       "    </tr>\n",
       "  </thead>\n",
       "  <tbody>\n",
       "    <tr>\n",
       "      <th>0</th>\n",
       "      <td>2019-06-01</td>\n",
       "      <td>14</td>\n",
       "      <td>53</td>\n",
       "      <td>276</td>\n",
       "    </tr>\n",
       "    <tr>\n",
       "      <th>1</th>\n",
       "      <td>2019-06-02</td>\n",
       "      <td>14</td>\n",
       "      <td>69</td>\n",
       "      <td>288</td>\n",
       "    </tr>\n",
       "    <tr>\n",
       "      <th>2</th>\n",
       "      <td>2019-06-03</td>\n",
       "      <td>14</td>\n",
       "      <td>57</td>\n",
       "      <td>288</td>\n",
       "    </tr>\n",
       "    <tr>\n",
       "      <th>3</th>\n",
       "      <td>2019-06-04</td>\n",
       "      <td>21</td>\n",
       "      <td>49</td>\n",
       "      <td>288</td>\n",
       "    </tr>\n",
       "    <tr>\n",
       "      <th>4</th>\n",
       "      <td>2019-06-05</td>\n",
       "      <td>24</td>\n",
       "      <td>49</td>\n",
       "      <td>288</td>\n",
       "    </tr>\n",
       "    <tr>\n",
       "      <th>...</th>\n",
       "      <td>...</td>\n",
       "      <td>...</td>\n",
       "      <td>...</td>\n",
       "      <td>...</td>\n",
       "    </tr>\n",
       "    <tr>\n",
       "      <th>695</th>\n",
       "      <td>2021-04-26</td>\n",
       "      <td>3</td>\n",
       "      <td>87</td>\n",
       "      <td>288</td>\n",
       "    </tr>\n",
       "    <tr>\n",
       "      <th>696</th>\n",
       "      <td>2021-04-27</td>\n",
       "      <td>4</td>\n",
       "      <td>89</td>\n",
       "      <td>288</td>\n",
       "    </tr>\n",
       "    <tr>\n",
       "      <th>697</th>\n",
       "      <td>2021-04-28</td>\n",
       "      <td>4</td>\n",
       "      <td>71</td>\n",
       "      <td>288</td>\n",
       "    </tr>\n",
       "    <tr>\n",
       "      <th>698</th>\n",
       "      <td>2021-04-29</td>\n",
       "      <td>5</td>\n",
       "      <td>70</td>\n",
       "      <td>288</td>\n",
       "    </tr>\n",
       "    <tr>\n",
       "      <th>699</th>\n",
       "      <td>2021-04-30</td>\n",
       "      <td>6</td>\n",
       "      <td>78</td>\n",
       "      <td>12</td>\n",
       "    </tr>\n",
       "  </tbody>\n",
       "</table>\n",
       "<p>700 rows × 4 columns</p>\n",
       "</div>"
      ],
      "text/plain": [
       "       Kuupaev  Temperatuur  Niiskus  Andmeid_paeva_kohta\n",
       "0   2019-06-01           14       53                  276\n",
       "1   2019-06-02           14       69                  288\n",
       "2   2019-06-03           14       57                  288\n",
       "3   2019-06-04           21       49                  288\n",
       "4   2019-06-05           24       49                  288\n",
       "..         ...          ...      ...                  ...\n",
       "695 2021-04-26            3       87                  288\n",
       "696 2021-04-27            4       89                  288\n",
       "697 2021-04-28            4       71                  288\n",
       "698 2021-04-29            5       70                  288\n",
       "699 2021-04-30            6       78                   12\n",
       "\n",
       "[700 rows x 4 columns]"
      ]
     },
     "execution_count": 204,
     "metadata": {},
     "output_type": "execute_result"
    }
   ],
   "source": [
    "loplik"
   ]
  },
  {
   "cell_type": "code",
   "execution_count": 205,
   "id": "7ac63c82",
   "metadata": {},
   "outputs": [
    {
     "name": "stdout",
     "output_type": "stream",
     "text": [
      "Stored 'loplik' (DataFrame)\n"
     ]
    }
   ],
   "source": [
    "from sklearn import datasets\n",
    "\n",
    "%store loplik"
   ]
  }
 ],
 "metadata": {
  "kernelspec": {
   "display_name": "Python 3",
   "language": "python",
   "name": "python3"
  },
  "language_info": {
   "codemirror_mode": {
    "name": "ipython",
    "version": 3
   },
   "file_extension": ".py",
   "mimetype": "text/x-python",
   "name": "python",
   "nbconvert_exporter": "python",
   "pygments_lexer": "ipython3",
   "version": "3.8.8"
  }
 },
 "nbformat": 4,
 "nbformat_minor": 5
}
