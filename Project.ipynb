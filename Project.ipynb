{
 "cells": [
  {
   "cell_type": "markdown",
   "id": "51a5c64d",
   "metadata": {},
   "source": [
    "# PREPARING DATA"
   ]
  },
  {
   "cell_type": "code",
   "execution_count": 1,
   "id": "cde33080",
   "metadata": {},
   "outputs": [],
   "source": [
    "import matplotlib.pyplot as plt \n",
    "import numpy as np\n",
    "import pandas as pd\n",
    "import datetime\n",
    "import math"
   ]
  },
  {
   "cell_type": "markdown",
   "id": "f289bfbc",
   "metadata": {},
   "source": [
    "#### Reading in necessary data."
   ]
  },
  {
   "cell_type": "code",
   "execution_count": 2,
   "id": "a7b2f31e",
   "metadata": {},
   "outputs": [],
   "source": [
    "data_1 = pd.read_csv(\"2019.csv\")\n",
    "data_2 = pd.read_csv(\"2020.csv\")\n",
    "data_3 = pd.read_csv(\"2021.csv\")"
   ]
  },
  {
   "cell_type": "code",
   "execution_count": 3,
   "id": "3f82f74d",
   "metadata": {},
   "outputs": [],
   "source": [
    "data_1[\"dataset\"] = 1\n",
    "data_2[\"dataset\"] = 2\n",
    "data_3[\"dataset\"] = 3"
   ]
  },
  {
   "cell_type": "code",
   "execution_count": 4,
   "id": "fb269f60",
   "metadata": {},
   "outputs": [],
   "source": [
    "data = pd.concat([data_1, data_2, data_3], ignore_index=True)"
   ]
  },
  {
   "cell_type": "code",
   "execution_count": 5,
   "id": "f1c302eb",
   "metadata": {},
   "outputs": [],
   "source": [
    "test_dataset = data.iloc[0:20000].copy()"
   ]
  },
  {
   "cell_type": "markdown",
   "id": "5bd63761",
   "metadata": {},
   "source": [
    "#### "
   ]
  },
  {
   "cell_type": "code",
   "execution_count": 6,
   "id": "0c7c46a8",
   "metadata": {},
   "outputs": [],
   "source": [
    "data.replace('Undetermined', np.nan, inplace = True)"
   ]
  },
  {
   "cell_type": "code",
   "execution_count": 7,
   "id": "6bad217b",
   "metadata": {},
   "outputs": [],
   "source": [
    "# kehvem variant \n",
    "# see on aeglasem (kuna replace vaatab kõik üle)\n",
    "# ja see replaceb kogu dataframes, mitte ainult first3IdNumber tulbas\n",
    "\n",
    "\n",
    "# sonede indexer on True, kui first3IdNumber on sõne, False, kui nan või number\n",
    "# sonede_indexer = (~data.first3IdNumber.isna()) & (~data.first3IdNumber.astype(str).str.isnumeric())\n",
    "# soned = data.loc[sonede_indexer, \"first3IdNumber\"]\n",
    "\n",
    "\n",
    "# arvude_indexer = (~data.first3IdNumber.isna()) & data.first3IdNumber.astype(str).str.isnumeric()\n",
    "# väiksem_kui_100 = data.loc[arvude_indexer, \"first3IdNumber\"].astype(int) / 100 < 1\n",
    "\n",
    "# on_väiksem_kui_100_indexer = arvude_indexer & väiksem_kui_100\n",
    "\n",
    "# valed_integerid = data.loc[on_väiksem_kui_100_indexer, \"first3IdNumber\"].astype(str)\n",
    "\n",
    "# inappropriate_id_numbers = list(set(soned) | set(valed_integerid))\n",
    "# data.replace(inappropriate_id_numbers, np.nan, inplace=True)"
   ]
  },
  {
   "cell_type": "code",
   "execution_count": 8,
   "id": "be4a65f3",
   "metadata": {
    "scrolled": true
   },
   "outputs": [
    {
     "name": "stdout",
     "output_type": "stream",
     "text": [
      "Wall time: 2.74 s\n"
     ]
    }
   ],
   "source": [
    "%%time\n",
    "# sonede indexer on True, kui first3IdNumber on sõne, False, kui nan või number\n",
    "sonede_indexer = (~data.first3IdNumber.isna()) & (~data.first3IdNumber.astype(str).str.isnumeric())\n",
    "\n",
    "# arvude_indexer on True, kui first3IdNumber on arv\n",
    "arvude_indexer = (~data.first3IdNumber.isna()) & data.first3IdNumber.astype(str).str.isnumeric()\n",
    "# väiksem_kui_100 vaatab ainult arve ja on True, kui tegu on väiksema arvuga kui 100\n",
    "# nb! väiksem_kui_100.shape[0] != data.shape[0], st indekseerimsiega tekib probleeme\n",
    "väiksem_kui_100 = data.loc[arvude_indexer, \"first3IdNumber\"].astype(int) / 100 < 1\n",
    "\n",
    "# selleks, et kogu `data` suurust indexeri saada, mergeme arvude_indexeri ja väiksem_kui_100\n",
    "on_väiksem_kui_100_indexer = arvude_indexer & väiksem_kui_100\n",
    "\n",
    "# kui on_väikse_kui_100 või on_sõne, siis replace-i first3IdNumber väärtus nan-ga\n",
    "data.loc[on_väiksem_kui_100_indexer | sonede_indexer, \"first3IdNumber\"] = np.nan"
   ]
  },
  {
   "cell_type": "markdown",
   "id": "1db50bd6",
   "metadata": {},
   "source": [
    "#### Calculating the duration of the trips"
   ]
  },
  {
   "cell_type": "code",
   "execution_count": 9,
   "id": "f85b69a6",
   "metadata": {},
   "outputs": [
    {
     "name": "stdout",
     "output_type": "stream",
     "text": [
      "Wall time: 3.28 s\n"
     ]
    }
   ],
   "source": [
    "%%time\n",
    "unlocked_datetime = data.unlockedat.str.cat(data.unlockedattime, sep=\" \")\n",
    "# enamik kellaaegu on formaadis YYYY-mm-dd HH:MM:SS (pikkusega 19).\n",
    "# kuid üksikud on formaadis +00:00 vms, nende jaoks eemaldame nood veidrad +00:00 asjad slicemisega\n",
    "unlocked_datetime = unlocked_datetime.str.slice(0, 19)\n",
    "# nüüd saab datetime-ks konverteerida\n",
    "unlocked_dt = pd.to_datetime(unlocked_datetime)"
   ]
  },
  {
   "cell_type": "code",
   "execution_count": 10,
   "id": "63535a46",
   "metadata": {},
   "outputs": [
    {
     "name": "stdout",
     "output_type": "stream",
     "text": [
      "Wall time: 5.02 s\n"
     ]
    }
   ],
   "source": [
    "%%time\n",
    "# analoogselt eelmise väljaga\n",
    "locked_datetime = data.lockedat.str.cat(data.lockedattime, sep=\" \")\n",
    "locked_datetime = locked_datetime.str.slice(0, 19)\n",
    "locked_dt = pd.to_datetime(locked_datetime)"
   ]
  },
  {
   "cell_type": "code",
   "execution_count": 11,
   "id": "9cdc914a",
   "metadata": {},
   "outputs": [],
   "source": [
    "duration = locked_dt - unlocked_dt"
   ]
  },
  {
   "cell_type": "code",
   "execution_count": 12,
   "id": "d3c5450e",
   "metadata": {},
   "outputs": [],
   "source": [
    "duration_in_sec = duration.dt.total_seconds().astype(int)"
   ]
  },
  {
   "cell_type": "code",
   "execution_count": 13,
   "id": "97284e8b",
   "metadata": {},
   "outputs": [],
   "source": [
    "data['duration'] = duration_in_sec"
   ]
  },
  {
   "cell_type": "markdown",
   "id": "3838ebc0",
   "metadata": {},
   "source": [
    "### Fixing start station and end station serial numbers"
   ]
  },
  {
   "cell_type": "code",
   "execution_count": 14,
   "id": "5c01b364",
   "metadata": {},
   "outputs": [],
   "source": [
    "station_dictionary = {'Kalda tee': 1, 'Kaunase puiestee': 2, 'Annelinna keskus': 3, 'Mõisavahe': 4, 'Annelinna kiir': 5,\n",
    "                      'Annelinna Gümnaasium': 6, 'Annelinn': 7, 'Anne saun': 8, 'Papli': 9, 'Turusild': 10,\n",
    "                      'Põhja puiestee': 11, 'Roosi': 12, 'ERM': 13, 'Vahi': 14, 'Orava': 15, 'Rüütli': 16,\n",
    "                      'K.E. von Baeri': 17, 'Näituse': 18, 'Tulbi': 19, 'Kannikese': 20, 'W.Ostwaldi': 21, 'Raja': 22,\n",
    "                      'Ränilinn': 23, 'Tamme puiestee': 24, 'Viie tee rist': 25, 'Postimaja': 26, 'Sõbra': 27,\n",
    "                      'Tamme Staadion': 28, 'Raudteejaam': 29, 'Vanemuise park': 30, 'TÜ raamatukogu': 31,\n",
    "                      'Aleksandri': 32, 'Aura veekeskus': 33, 'Sõpruse sild': 34, 'Pargi': 35, 'Kuu': 36, 'Karete': 37,\n",
    "                      'Torni': 38, 'Tähtvere spordipark': 39, 'Aparaaditehas': 40, 'Ülejõe park': 41, 'J. Hurda': 42,\n",
    "                      'Uueturu': 43, 'Raatuse kool': 44, 'Soola': 45, 'AHHAA': 46, 'Lossi': 47, 'Kaare': 48, 'Raatuse': 49,\n",
    "                      'EMÜ spordihoone': 50, 'Lõunakeskus': 51, 'Rahu': 52, 'Tamme gümnaasium': 53, 'Veeriku': 54,\n",
    "                      'Pirogovi plats': 55, 'Magistri': 56, 'Vabadussild': 57, 'Põllu': 58, 'Tarmeko': 59, 'Sepa turg': 60,\n",
    "                      'Ihaste': 61, 'Kvissentali': 62, 'Maarjamõisa': 63, 'Kopli': 64, 'Delta': 65, 'Riiamäe': 66,\n",
    "                      'Tamme kool': 67, 'Eeden': 68, 'Kivilinna': 69, 'Pallase': 70, 'Märja': 71, 'Paju': 72, 'Ringtee': 78,\n",
    "                      'E-kaubamaja': 79, 'Männimetsa virtuaalne': 80, 'Rahinge virtuaalparkla': 81,\n",
    "                      'Ujula virtuaalparkla': 82, 'Kaupmehe': 83, 'Kõrveküla': 84, 'Ihaste Coop': 85, 'Luunja': 86,\n",
    "                      'Nõlvaku': 87, 'Tammenurga': 88, 'Savi': 89, 'Kiigeplatsi': 90, 'Lähte': 91, 'Kaubabaas': 92,\n",
    "                      'Linnupargi': 93}"
   ]
  },
  {
   "cell_type": "code",
   "execution_count": 15,
   "id": "da2d82ab",
   "metadata": {},
   "outputs": [],
   "source": [
    "data.loc[data.endstationname != \"Warehouse\", \"endstationserialnumber\"] = data.loc[data.endstationname != \"Warehouse\", \"endstationname\"].map(station_dictionary)"
   ]
  },
  {
   "cell_type": "code",
   "execution_count": 16,
   "id": "5a6f05b0",
   "metadata": {},
   "outputs": [],
   "source": [
    "data.loc[data.startstationname != \"Warehouse\", \"startstationserialnumber\"] = data.loc[data.startstationname != \"Warehouse\", \"startstationname\"].map(station_dictionary)"
   ]
  },
  {
   "cell_type": "markdown",
   "id": "b8999e89",
   "metadata": {},
   "source": [
    "#### Finding user's age and gender."
   ]
  },
  {
   "cell_type": "code",
   "execution_count": 17,
   "id": "ad248957",
   "metadata": {},
   "outputs": [],
   "source": [
    "data[\"gender\"] = np.nan\n",
    "data[\"age\"] = np.nan\n",
    "\n",
    "data.first3IdNumber = data.first3IdNumber.astype(float)\n",
    "\n",
    "non_nan_indexer = (~data.first3IdNumber.isna())\n",
    "\n",
    "first_nr = (data.loc[non_nan_indexer, \"first3IdNumber\"] // 100).astype(int)\n",
    "data.loc[non_nan_indexer, \"gender\"] = (first_nr % 2 == 0).astype(int).astype(str)\n",
    "\n",
    "second_nrs = data.loc[non_nan_indexer, \"first3IdNumber\"].astype(int) % 100\n",
    "\n",
    "conditions = [\n",
    "    (first_nr == 1) | (first_nr == 2),\n",
    "    (first_nr == 3) | (first_nr == 4),\n",
    "    (first_nr == 5) | (first_nr == 6)\n",
    "]\n",
    "choices = [\n",
    "    2021 - 1800 - second_nrs,\n",
    "    2021 - 1900 - second_nrs,\n",
    "    2021 - 2000 - second_nrs\n",
    "]\n",
    "\n",
    "data.loc[non_nan_indexer, \"age\"] = np.select(conditions, choices)"
   ]
  },
  {
   "cell_type": "markdown",
   "id": "c0bbb465",
   "metadata": {},
   "source": [
    "#### Dropping unnecessary data and changing column names."
   ]
  },
  {
   "cell_type": "code",
   "execution_count": 18,
   "id": "eb7ae1d3",
   "metadata": {},
   "outputs": [],
   "source": [
    "data = data.drop(['cyclenumber', 'startstationname', 'endstationname', 'yearOfBirth', 'first3IdNumber'], axis = 1)"
   ]
  },
  {
   "cell_type": "code",
   "execution_count": 19,
   "id": "6da90a3f",
   "metadata": {
    "scrolled": true
   },
   "outputs": [],
   "source": [
    "data = data.rename(columns = {'unlockedat': 'start_date', 'unlockedattime': 'start_time', 'lockedat': 'end_date',\n",
    "                      'lockedattime': 'end_time', 'startstationserialnumber': 'start_station',\n",
    "                      'endstationserialnumber': 'end_station'})"
   ]
  },
  {
   "cell_type": "markdown",
   "id": "c29cb425",
   "metadata": {},
   "source": [
    "### Looking at data."
   ]
  },
  {
   "cell_type": "code",
   "execution_count": 20,
   "id": "b74f2a50",
   "metadata": {
    "scrolled": false
   },
   "outputs": [
    {
     "data": {
      "text/html": [
       "<div>\n",
       "<style scoped>\n",
       "    .dataframe tbody tr th:only-of-type {\n",
       "        vertical-align: middle;\n",
       "    }\n",
       "\n",
       "    .dataframe tbody tr th {\n",
       "        vertical-align: top;\n",
       "    }\n",
       "\n",
       "    .dataframe thead th {\n",
       "        text-align: right;\n",
       "    }\n",
       "</style>\n",
       "<table border=\"1\" class=\"dataframe\">\n",
       "  <thead>\n",
       "    <tr style=\"text-align: right;\">\n",
       "      <th></th>\n",
       "      <th>start_date</th>\n",
       "      <th>start_time</th>\n",
       "      <th>end_date</th>\n",
       "      <th>end_time</th>\n",
       "      <th>start_station</th>\n",
       "      <th>end_station</th>\n",
       "      <th>length</th>\n",
       "      <th>dataset</th>\n",
       "      <th>duration</th>\n",
       "      <th>gender</th>\n",
       "      <th>age</th>\n",
       "    </tr>\n",
       "  </thead>\n",
       "  <tbody>\n",
       "    <tr>\n",
       "      <th>0</th>\n",
       "      <td>2019-06-02</td>\n",
       "      <td>11:56:01</td>\n",
       "      <td>2019-06-02</td>\n",
       "      <td>11:58:37</td>\n",
       "      <td>WH</td>\n",
       "      <td>WH</td>\n",
       "      <td>0.00</td>\n",
       "      <td>1</td>\n",
       "      <td>156</td>\n",
       "      <td>0</td>\n",
       "      <td>35.0</td>\n",
       "    </tr>\n",
       "    <tr>\n",
       "      <th>1</th>\n",
       "      <td>2019-06-02</td>\n",
       "      <td>17:41:53</td>\n",
       "      <td>2019-06-02</td>\n",
       "      <td>17:43:10</td>\n",
       "      <td>WH</td>\n",
       "      <td>WH</td>\n",
       "      <td>0.06</td>\n",
       "      <td>1</td>\n",
       "      <td>77</td>\n",
       "      <td>0</td>\n",
       "      <td>35.0</td>\n",
       "    </tr>\n",
       "    <tr>\n",
       "      <th>2</th>\n",
       "      <td>2019-06-03</td>\n",
       "      <td>11:19:48</td>\n",
       "      <td>2019-06-03</td>\n",
       "      <td>12:30:41</td>\n",
       "      <td>WH</td>\n",
       "      <td>WH</td>\n",
       "      <td>0.00</td>\n",
       "      <td>1</td>\n",
       "      <td>4253</td>\n",
       "      <td>0</td>\n",
       "      <td>35.0</td>\n",
       "    </tr>\n",
       "    <tr>\n",
       "      <th>3</th>\n",
       "      <td>2019-06-03</td>\n",
       "      <td>12:47:10</td>\n",
       "      <td>2019-06-03</td>\n",
       "      <td>12:53:28</td>\n",
       "      <td>55.0</td>\n",
       "      <td>55.0</td>\n",
       "      <td>0.96</td>\n",
       "      <td>1</td>\n",
       "      <td>378</td>\n",
       "      <td>NaN</td>\n",
       "      <td>NaN</td>\n",
       "    </tr>\n",
       "    <tr>\n",
       "      <th>4</th>\n",
       "      <td>2019-06-03</td>\n",
       "      <td>12:52:33</td>\n",
       "      <td>2019-06-03</td>\n",
       "      <td>12:54:08</td>\n",
       "      <td>55.0</td>\n",
       "      <td>55.0</td>\n",
       "      <td>0.01</td>\n",
       "      <td>1</td>\n",
       "      <td>95</td>\n",
       "      <td>1</td>\n",
       "      <td>27.0</td>\n",
       "    </tr>\n",
       "    <tr>\n",
       "      <th>...</th>\n",
       "      <td>...</td>\n",
       "      <td>...</td>\n",
       "      <td>...</td>\n",
       "      <td>...</td>\n",
       "      <td>...</td>\n",
       "      <td>...</td>\n",
       "      <td>...</td>\n",
       "      <td>...</td>\n",
       "      <td>...</td>\n",
       "      <td>...</td>\n",
       "      <td>...</td>\n",
       "    </tr>\n",
       "    <tr>\n",
       "      <th>1701590</th>\n",
       "      <td>2021-04-30</td>\n",
       "      <td>23:52:51</td>\n",
       "      <td>2021-05-01</td>\n",
       "      <td>00:28:09</td>\n",
       "      <td>1.0</td>\n",
       "      <td>1.0</td>\n",
       "      <td>6.82</td>\n",
       "      <td>3</td>\n",
       "      <td>2118</td>\n",
       "      <td>1</td>\n",
       "      <td>19.0</td>\n",
       "    </tr>\n",
       "    <tr>\n",
       "      <th>1701591</th>\n",
       "      <td>2021-04-30</td>\n",
       "      <td>23:53:50</td>\n",
       "      <td>2021-05-01</td>\n",
       "      <td>00:15:46</td>\n",
       "      <td>78.0</td>\n",
       "      <td>13.0</td>\n",
       "      <td>6.69</td>\n",
       "      <td>3</td>\n",
       "      <td>1316</td>\n",
       "      <td>1</td>\n",
       "      <td>48.0</td>\n",
       "    </tr>\n",
       "    <tr>\n",
       "      <th>1701592</th>\n",
       "      <td>2021-04-30</td>\n",
       "      <td>23:53:53</td>\n",
       "      <td>2021-04-30</td>\n",
       "      <td>23:58:42</td>\n",
       "      <td>1.0</td>\n",
       "      <td>11.0</td>\n",
       "      <td>1.22</td>\n",
       "      <td>3</td>\n",
       "      <td>289</td>\n",
       "      <td>0</td>\n",
       "      <td>81.0</td>\n",
       "    </tr>\n",
       "    <tr>\n",
       "      <th>1701593</th>\n",
       "      <td>2021-04-30</td>\n",
       "      <td>23:54:30</td>\n",
       "      <td>2021-05-01</td>\n",
       "      <td>00:02:03</td>\n",
       "      <td>11.0</td>\n",
       "      <td>34.0</td>\n",
       "      <td>2.35</td>\n",
       "      <td>3</td>\n",
       "      <td>453</td>\n",
       "      <td>NaN</td>\n",
       "      <td>NaN</td>\n",
       "    </tr>\n",
       "    <tr>\n",
       "      <th>1701594</th>\n",
       "      <td>2021-04-30</td>\n",
       "      <td>23:54:30</td>\n",
       "      <td>2021-05-01</td>\n",
       "      <td>00:03:52</td>\n",
       "      <td>69.0</td>\n",
       "      <td>15.0</td>\n",
       "      <td>2.79</td>\n",
       "      <td>3</td>\n",
       "      <td>562</td>\n",
       "      <td>0</td>\n",
       "      <td>24.0</td>\n",
       "    </tr>\n",
       "  </tbody>\n",
       "</table>\n",
       "<p>1701595 rows × 11 columns</p>\n",
       "</div>"
      ],
      "text/plain": [
       "         start_date start_time    end_date  end_time start_station  \\\n",
       "0        2019-06-02   11:56:01  2019-06-02  11:58:37            WH   \n",
       "1        2019-06-02   17:41:53  2019-06-02  17:43:10            WH   \n",
       "2        2019-06-03   11:19:48  2019-06-03  12:30:41            WH   \n",
       "3        2019-06-03   12:47:10  2019-06-03  12:53:28          55.0   \n",
       "4        2019-06-03   12:52:33  2019-06-03  12:54:08          55.0   \n",
       "...             ...        ...         ...       ...           ...   \n",
       "1701590  2021-04-30   23:52:51  2021-05-01  00:28:09           1.0   \n",
       "1701591  2021-04-30   23:53:50  2021-05-01  00:15:46          78.0   \n",
       "1701592  2021-04-30   23:53:53  2021-04-30  23:58:42           1.0   \n",
       "1701593  2021-04-30   23:54:30  2021-05-01  00:02:03          11.0   \n",
       "1701594  2021-04-30   23:54:30  2021-05-01  00:03:52          69.0   \n",
       "\n",
       "        end_station  length  dataset  duration gender   age  \n",
       "0                WH    0.00        1       156      0  35.0  \n",
       "1                WH    0.06        1        77      0  35.0  \n",
       "2                WH    0.00        1      4253      0  35.0  \n",
       "3              55.0    0.96        1       378    NaN   NaN  \n",
       "4              55.0    0.01        1        95      1  27.0  \n",
       "...             ...     ...      ...       ...    ...   ...  \n",
       "1701590         1.0    6.82        3      2118      1  19.0  \n",
       "1701591        13.0    6.69        3      1316      1  48.0  \n",
       "1701592        11.0    1.22        3       289      0  81.0  \n",
       "1701593        34.0    2.35        3       453    NaN   NaN  \n",
       "1701594        15.0    2.79        3       562      0  24.0  \n",
       "\n",
       "[1701595 rows x 11 columns]"
      ]
     },
     "execution_count": 20,
     "metadata": {},
     "output_type": "execute_result"
    }
   ],
   "source": [
    "data"
   ]
  },
  {
   "cell_type": "markdown",
   "id": "79b11ec3",
   "metadata": {},
   "source": [
    "# RIDE INFO"
   ]
  },
  {
   "cell_type": "markdown",
   "id": "b3b3b155",
   "metadata": {},
   "source": [
    "### Finding average duration of all rides"
   ]
  },
  {
   "cell_type": "code",
   "execution_count": 23,
   "id": "c7cf6626",
   "metadata": {},
   "outputs": [],
   "source": [
    "ride_duration_mean_in_sec = data['duration'].mean()"
   ]
  },
  {
   "cell_type": "code",
   "execution_count": 24,
   "id": "8e536a0e",
   "metadata": {},
   "outputs": [],
   "source": [
    "ride_duration_mean_in_min = ride_duration_mean_in_sec / 60"
   ]
  },
  {
   "cell_type": "code",
   "execution_count": 25,
   "id": "36157d39",
   "metadata": {},
   "outputs": [
    {
     "data": {
      "text/plain": [
       "19.0190124755499"
      ]
     },
     "execution_count": 25,
     "metadata": {},
     "output_type": "execute_result"
    }
   ],
   "source": [
    "ride_duration_mean_in_min"
   ]
  },
  {
   "cell_type": "markdown",
   "id": "4d875374",
   "metadata": {},
   "source": [
    "### Finding 10 most popular start stations."
   ]
  },
  {
   "cell_type": "code",
   "execution_count": 26,
   "id": "e644ded1",
   "metadata": {},
   "outputs": [
    {
     "data": {
      "text/plain": [
       "[43.0, 45.0, 55.0, 68.0, 57.0, 5.0, 10.0, 54.0, 32.0, 29.0]"
      ]
     },
     "execution_count": 26,
     "metadata": {},
     "output_type": "execute_result"
    }
   ],
   "source": [
    "data['start_station'].value_counts()[:10].index.tolist()"
   ]
  },
  {
   "cell_type": "markdown",
   "id": "c55b3433",
   "metadata": {},
   "source": [
    "### Finding 10 most popular end stations."
   ]
  },
  {
   "cell_type": "code",
   "execution_count": 27,
   "id": "6a76afe3",
   "metadata": {},
   "outputs": [
    {
     "data": {
      "text/plain": [
       "[43.0, 45.0, 55.0, 68.0, 57.0, 5.0, 10.0, 32.0, 54.0, 51.0]"
      ]
     },
     "execution_count": 27,
     "metadata": {},
     "output_type": "execute_result"
    }
   ],
   "source": [
    "data['end_station'].value_counts()[:10].index.tolist()"
   ]
  },
  {
   "cell_type": "markdown",
   "id": "4a9016a9",
   "metadata": {},
   "source": [
    "### Finding most popular routes"
   ]
  },
  {
   "cell_type": "code",
   "execution_count": 59,
   "id": "0f9f0008",
   "metadata": {
    "scrolled": true
   },
   "outputs": [
    {
     "data": {
      "text/plain": [
       "start_station  end_station\n",
       "78.0           13.0              1\n",
       "               41.0              1\n",
       "               40.0              1\n",
       "               31.0              1\n",
       "               30.0              1\n",
       "                              ... \n",
       "3.0            3.0            4088\n",
       "45.0           45.0           4566\n",
       "61.0           61.0           4734\n",
       "5.0            5.0            7692\n",
       "43.0           43.0           8215\n",
       "Length: 4721, dtype: int64"
      ]
     },
     "execution_count": 59,
     "metadata": {},
     "output_type": "execute_result"
    }
   ],
   "source": [
    "data.groupby(['start_station', 'end_station']).size().sort_values()"
   ]
  },
  {
   "cell_type": "code",
   "execution_count": 60,
   "id": "57158043",
   "metadata": {},
   "outputs": [],
   "source": [
    "# SIIA TULEB VEEL LAHENDUS TEHA AGA LÄKSIN KATKI"
   ]
  },
  {
   "cell_type": "markdown",
   "id": "25e74d2b",
   "metadata": {},
   "source": [
    "### Finding average length of all rides"
   ]
  },
  {
   "cell_type": "code",
   "execution_count": 28,
   "id": "a74e9279",
   "metadata": {},
   "outputs": [],
   "source": [
    "ride_length_mean_in_km = data['length'].mean()"
   ]
  },
  {
   "cell_type": "code",
   "execution_count": 29,
   "id": "4c7492b0",
   "metadata": {},
   "outputs": [
    {
     "data": {
      "text/plain": [
       "2.6613440742351067"
      ]
     },
     "execution_count": 29,
     "metadata": {},
     "output_type": "execute_result"
    }
   ],
   "source": [
    "ride_length_mean_in_km"
   ]
  },
  {
   "cell_type": "markdown",
   "id": "7f530a5a",
   "metadata": {},
   "source": [
    "### Finding average length of all rides done by women"
   ]
  },
  {
   "cell_type": "code",
   "execution_count": null,
   "id": "72c3d6a6",
   "metadata": {},
   "outputs": [],
   "source": []
  },
  {
   "cell_type": "markdown",
   "id": "2c6a020d",
   "metadata": {},
   "source": [
    "### Finding average length of all rides done by men"
   ]
  },
  {
   "cell_type": "code",
   "execution_count": null,
   "id": "f14d67cf",
   "metadata": {},
   "outputs": [],
   "source": []
  },
  {
   "cell_type": "markdown",
   "id": "2602171f",
   "metadata": {},
   "source": [
    "# SERVICE USAGE"
   ]
  },
  {
   "cell_type": "markdown",
   "id": "3ea0ba70",
   "metadata": {},
   "source": [
    "### Monthly"
   ]
  },
  {
   "cell_type": "code",
   "execution_count": 30,
   "id": "9d83474f",
   "metadata": {},
   "outputs": [],
   "source": [
    "months = ['june 2019', 'july 2019', 'august 2019', 'september 2019', 'october 2019', 'november 2019', 'december 2019',\n",
    "          'january 2020', 'february 2020', 'march 2020', 'april 2020', 'may 2020', 'june 2020', 'july 2020', 'august 2020', \n",
    "          'september 2020', 'october 2020', 'november 2020', 'december 2020', 'january 2021', 'february 2021', 'march 2021',\n",
    "          'april 2021']\n",
    "month_data = []\n",
    "\n",
    "for i in range(2019, 2022):\n",
    "    for j in range(1, 13):\n",
    "        month_data.append(((pd.to_datetime(data.start_date).dt.month == j) &\n",
    "                           (pd.to_datetime(data.start_date).dt.year == i)).sum())"
   ]
  },
  {
   "cell_type": "code",
   "execution_count": 31,
   "id": "cf18f9b6",
   "metadata": {},
   "outputs": [],
   "source": [
    "while 0 in month_data: \n",
    "        month_data.remove(0)"
   ]
  },
  {
   "cell_type": "code",
   "execution_count": 126,
   "id": "266ab794",
   "metadata": {},
   "outputs": [
    {
     "data": {
      "image/png": "[encoded data removed]",
      "text/plain": [
       "<Figure size 432x288 with 1 Axes>"
      ]
     },
     "metadata": {
      "needs_background": "light"
     },
     "output_type": "display_data"
    }
   ],
   "source": [
    "plt.plot(months, month_data, color = 'lightpink', marker = 'o')\n",
    "plt.title('USAGE BY MONTH')\n",
    "plt.ylabel('Rides done')\n",
    "plt.xticks(rotation = 90)\n",
    "plt.show()"
   ]
  },
  {
   "cell_type": "code",
   "execution_count": 32,
   "id": "96a6d0be",
   "metadata": {
    "scrolled": false
   },
   "outputs": [
    {
     "data": {
      "image/png": "[encoded data removed]",
      "text/plain": [
       "<Figure size 432x288 with 1 Axes>"
      ]
     },
     "metadata": {
      "needs_background": "light"
     },
     "output_type": "display_data"
    }
   ],
   "source": [
    "month_graph = plt.figure()\n",
    "ax = month_graph.add_axes([0, 0, 1, 1])\n",
    "ax.bar(months, month_data, color = 'lightpink')\n",
    "ax.set_title('USAGE BY MONTH')\n",
    "plt.xticks(rotation = 90)\n",
    "plt.show()"
   ]
  },
  {
   "cell_type": "markdown",
   "id": "f0222e4b",
   "metadata": {},
   "source": [
    "### Finding average seasonally"
   ]
  },
  {
   "cell_type": "code",
   "execution_count": 99,
   "id": "b387293e",
   "metadata": {},
   "outputs": [],
   "source": [
    "summer = month_data[0] + month_data[1] + month_data[2] + month_data[12] + month_data[13] + month_data[14]\n",
    "autumn = month_data[3] + month_data[4] + month_data[5] + month_data[15] + month_data[16] + month_data[17]\n",
    "winter = month_data[6] + month_data[7] + month_data[8] + month_data[18] + month_data[19] + month_data[20]\n",
    "spring = month_data[9] + month_data[10] + month_data[11] + month_data[21] + month_data[22]"
   ]
  },
  {
   "cell_type": "code",
   "execution_count": 100,
   "id": "8e0e92d0",
   "metadata": {
    "scrolled": true
   },
   "outputs": [],
   "source": [
    "seasons = ['summer', 'autumn', 'winter', 'spring']"
   ]
  },
  {
   "cell_type": "code",
   "execution_count": 101,
   "id": "d1ae83fd",
   "metadata": {},
   "outputs": [],
   "source": [
    "season_data = [summer / 6, autumn / 6, winter / 6, spring / 5]"
   ]
  },
  {
   "cell_type": "code",
   "execution_count": 102,
   "id": "a6e7b5dd",
   "metadata": {},
   "outputs": [
    {
     "data": {
      "image/png": "[encoded data removed]",
      "text/plain": [
       "<Figure size 432x288 with 1 Axes>"
      ]
     },
     "metadata": {
      "needs_background": "light"
     },
     "output_type": "display_data"
    }
   ],
   "source": [
    "season_average_graph = plt.figure()\n",
    "ax = season_average_graph.add_axes([0, 0, 1, 1])\n",
    "ax.bar(seasons, season_data, color = 'palevioletred')\n",
    "ax.set_title('AVERAGE USE IN A MONTH SEASONALLY')\n",
    "plt.xticks(rotation = 90)\n",
    "plt.show()"
   ]
  },
  {
   "cell_type": "code",
   "execution_count": 125,
   "id": "2b98e967",
   "metadata": {},
   "outputs": [
    {
     "data": {
      "image/png": "[encoded data removed]",
      "text/plain": [
       "<Figure size 432x288 with 1 Axes>"
      ]
     },
     "metadata": {},
     "output_type": "display_data"
    }
   ],
   "source": [
    "plt.pie(season_data, labels = seasons, colors = ['lightpink', 'hotpink', 'lavenderblush', 'deeppink'])\n",
    "plt.show()"
   ]
  },
  {
   "cell_type": "markdown",
   "id": "ec81d9be",
   "metadata": {},
   "source": [
    "### Daily"
   ]
  },
  {
   "cell_type": "code",
   "execution_count": 33,
   "id": "674030a9",
   "metadata": {},
   "outputs": [],
   "source": [
    "days = ['monday', 'tuesday', 'wednesday', 'thursday', 'friday', 'saturday', 'sunday']\n",
    "day_data = []\n",
    "\n",
    "for i in range(0, 7):\n",
    "    day_data.append((pd.to_datetime(data.start_date).dt.weekday == i).sum())"
   ]
  },
  {
   "cell_type": "code",
   "execution_count": 104,
   "id": "9d455188",
   "metadata": {
    "scrolled": true
   },
   "outputs": [
    {
     "data": {
      "image/png": "[encoded data removed]",
      "text/plain": [
       "<Figure size 432x288 with 1 Axes>"
      ]
     },
     "metadata": {
      "needs_background": "light"
     },
     "output_type": "display_data"
    }
   ],
   "source": [
    "plt.plot(days, day_data, color = 'deeppink', marker = 'o')\n",
    "plt.title('USAGE BY DAY')\n",
    "plt.xlabel('Days of the week')\n",
    "plt.ylabel('Rides done')\n",
    "plt.xticks(rotation = 90)\n",
    "plt.show()"
   ]
  },
  {
   "cell_type": "code",
   "execution_count": 115,
   "id": "c7aeccf9",
   "metadata": {},
   "outputs": [
    {
     "data": {
      "image/png": "[encoded data removed]",
      "text/plain": [
       "<Figure size 432x288 with 1 Axes>"
      ]
     },
     "metadata": {
      "needs_background": "light"
     },
     "output_type": "display_data"
    }
   ],
   "source": [
    "day_graph = plt.figure()\n",
    "ax = day_graph.add_axes([0, 0, 1, 1])\n",
    "ax.bar(days, day_data, color = 'hotpink')\n",
    "ax.set_title('USAGE BY HOUR')\n",
    "plt.xticks(rotation = 90)\n",
    "plt.show()"
   ]
  },
  {
   "cell_type": "markdown",
   "id": "a4a7e891",
   "metadata": {},
   "source": [
    "### Hourly"
   ]
  },
  {
   "cell_type": "code",
   "execution_count": 108,
   "id": "39e521af",
   "metadata": {},
   "outputs": [],
   "source": [
    "start_datetime = data.start_date.str.cat(data.start_time, sep=\" \")\n",
    "# enamik kellaaegu on formaadis YYYY-mm-dd HH:MM:SS (pikkusega 19).\n",
    "# kuid üksikud on formaadis +00:00 vms, nende jaoks eemaldame nood veidrad +00:00 asjad slicemisega\n",
    "start_datetime = start_datetime.str.slice(0, 19)\n",
    "# nüüd saab datetime-ks konverteerida\n",
    "start_dt = pd.to_datetime(start_datetime)"
   ]
  },
  {
   "cell_type": "code",
   "execution_count": 109,
   "id": "e214a283",
   "metadata": {},
   "outputs": [],
   "source": [
    "hours = ['00-01', '01-02', '02-03', '03-04', '04-05', '05-06', '06-07', '07-08', '08-09', '09-10', '10-11', '11-12',\n",
    "         '12-13', '13-14', '14-15', '15-16', '16-17', '17-18', '18-19', '19-20', '20-21', '21-22', '22-23', '23-00']\n",
    "hour_data = []\n",
    "\n",
    "for i in range(0, 24):\n",
    "    hour_data.append((pd.to_datetime(start_dt).dt.hour == i).sum())"
   ]
  },
  {
   "cell_type": "code",
   "execution_count": 111,
   "id": "be639bdd",
   "metadata": {},
   "outputs": [
    {
     "data": {
      "text/plain": [
       "<function matplotlib.pyplot.show(close=None, block=None)>"
      ]
     },
     "execution_count": 111,
     "metadata": {},
     "output_type": "execute_result"
    },
    {
     "data": {
      "image/png": "[encoded data removed]",
      "text/plain": [
       "<Figure size 432x288 with 1 Axes>"
      ]
     },
     "metadata": {
      "needs_background": "light"
     },
     "output_type": "display_data"
    }
   ],
   "source": [
    "plt.plot(hours, hour_data, color = 'hotpink', marker = 'o')\n",
    "plt.title('USAGE BY HOUR')\n",
    "plt.xlabel('Hours')\n",
    "plt.ylabel('Rides done')\n",
    "plt.xticks(rotation = 90)\n",
    "plt.show"
   ]
  },
  {
   "cell_type": "code",
   "execution_count": 114,
   "id": "f55d6448",
   "metadata": {
    "scrolled": false
   },
   "outputs": [
    {
     "data": {
      "image/png": "[encoded data removed]",
      "text/plain": [
       "<Figure size 432x288 with 1 Axes>"
      ]
     },
     "metadata": {
      "needs_background": "light"
     },
     "output_type": "display_data"
    }
   ],
   "source": [
    "hour_graph = plt.figure()\n",
    "ax = hour_graph.add_axes([0, 0, 1, 1])\n",
    "ax.bar(hours, hour_data, color = 'hotpink')\n",
    "ax.set_title('USAGE BY HOUR')\n",
    "plt.xticks(rotation = 90)\n",
    "plt.show()"
   ]
  },
  {
   "cell_type": "markdown",
   "id": "81c470c4",
   "metadata": {},
   "source": [
    "### Graph of when women mostly use this service (hour)"
   ]
  },
  {
   "cell_type": "code",
   "execution_count": null,
   "id": "dce82fec",
   "metadata": {},
   "outputs": [],
   "source": []
  },
  {
   "cell_type": "markdown",
   "id": "144668d2",
   "metadata": {},
   "source": [
    "### Graph of when men mostly use this service (hour)"
   ]
  },
  {
   "cell_type": "code",
   "execution_count": null,
   "id": "734653d4",
   "metadata": {},
   "outputs": [],
   "source": []
  },
  {
   "cell_type": "markdown",
   "id": "f790e113",
   "metadata": {},
   "source": [
    "# USER INFO"
   ]
  },
  {
   "cell_type": "markdown",
   "id": "4f78d97c",
   "metadata": {},
   "source": [
    "### Finding average age of all users"
   ]
  },
  {
   "cell_type": "code",
   "execution_count": 38,
   "id": "4905d300",
   "metadata": {},
   "outputs": [],
   "source": [
    "age_mean = data['age'].mean()"
   ]
  },
  {
   "cell_type": "code",
   "execution_count": 39,
   "id": "c2cdec2f",
   "metadata": {},
   "outputs": [
    {
     "data": {
      "text/plain": [
       "29.388305735684533"
      ]
     },
     "execution_count": 39,
     "metadata": {},
     "output_type": "execute_result"
    }
   ],
   "source": [
    "age_mean"
   ]
  },
  {
   "cell_type": "markdown",
   "id": "966f03e5",
   "metadata": {},
   "source": [
    "### Finding most frequently occurring age of all users"
   ]
  },
  {
   "cell_type": "code",
   "execution_count": 40,
   "id": "6140f5e3",
   "metadata": {},
   "outputs": [],
   "source": [
    "age_mode = data['age'].mode()"
   ]
  },
  {
   "cell_type": "code",
   "execution_count": 41,
   "id": "09e51b94",
   "metadata": {},
   "outputs": [
    {
     "data": {
      "text/plain": [
       "0    19.0\n",
       "dtype: float64"
      ]
     },
     "execution_count": 41,
     "metadata": {},
     "output_type": "execute_result"
    }
   ],
   "source": [
    "age_mode"
   ]
  },
  {
   "cell_type": "markdown",
   "id": "9c1453cf",
   "metadata": {},
   "source": [
    "### Finding median age of all users"
   ]
  },
  {
   "cell_type": "code",
   "execution_count": 42,
   "id": "7d665bf9",
   "metadata": {},
   "outputs": [],
   "source": [
    "age_median = data['age'].median()"
   ]
  },
  {
   "cell_type": "code",
   "execution_count": 43,
   "id": "bea89b39",
   "metadata": {},
   "outputs": [
    {
     "data": {
      "text/plain": [
       "25.0"
      ]
     },
     "execution_count": 43,
     "metadata": {},
     "output_type": "execute_result"
    }
   ],
   "source": [
    "age_median"
   ]
  },
  {
   "cell_type": "markdown",
   "id": "3cf59e51",
   "metadata": {},
   "source": [
    "### Finding how many males and females use this service"
   ]
  },
  {
   "cell_type": "code",
   "execution_count": 44,
   "id": "7c634a68",
   "metadata": {},
   "outputs": [
    {
     "data": {
      "text/plain": [
       "0    759065\n",
       "1    546481\n",
       "Name: gender, dtype: int64"
      ]
     },
     "execution_count": 44,
     "metadata": {},
     "output_type": "execute_result"
    }
   ],
   "source": [
    "data['gender'].value_counts()"
   ]
  },
  {
   "cell_type": "markdown",
   "id": "ec2e608e",
   "metadata": {},
   "source": [
    "### Finding how many users of a specific age"
   ]
  },
  {
   "cell_type": "code",
   "execution_count": 45,
   "id": "7784e2e2",
   "metadata": {},
   "outputs": [
    {
     "data": {
      "text/plain": [
       "-60.0"
      ]
     },
     "execution_count": 45,
     "metadata": {},
     "output_type": "execute_result"
    }
   ],
   "source": [
    "data['age'].min()"
   ]
  },
  {
   "cell_type": "code",
   "execution_count": 46,
   "id": "9a2f16b0",
   "metadata": {},
   "outputs": [
    {
     "data": {
      "text/plain": [
       "221.0"
      ]
     },
     "execution_count": 46,
     "metadata": {},
     "output_type": "execute_result"
    }
   ],
   "source": [
    "data['age'].max()"
   ]
  },
  {
   "cell_type": "code",
   "execution_count": null,
   "id": "b0dbbd9f",
   "metadata": {},
   "outputs": [],
   "source": []
  },
  {
   "cell_type": "code",
   "execution_count": null,
   "id": "012e5fed",
   "metadata": {},
   "outputs": [],
   "source": []
  },
  {
   "cell_type": "code",
   "execution_count": null,
   "id": "4c5d35ff",
   "metadata": {},
   "outputs": [],
   "source": []
  }
 ],
 "metadata": {
  "kernelspec": {
   "display_name": "Python 3",
   "language": "python",
   "name": "python3"
  },
  "language_info": {
   "codemirror_mode": {
    "name": "ipython",
    "version": 3
   },
   "file_extension": ".py",
   "mimetype": "text/x-python",
   "name": "python",
   "nbconvert_exporter": "python",
   "pygments_lexer": "ipython3",
   "version": "3.8.8"
  }
 },
 "nbformat": 4,
 "nbformat_minor": 5
}
